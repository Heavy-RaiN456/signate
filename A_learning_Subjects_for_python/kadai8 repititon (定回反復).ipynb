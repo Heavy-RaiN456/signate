{
 "cells": [
  {
   "cell_type": "code",
   "execution_count": 12,
   "metadata": {},
   "outputs": [
    {
     "name": "stdout",
     "output_type": "stream",
     "text": [
      "3 5 7 9 "
     ]
    }
   ],
   "source": [
    "n=10\n",
    "for i in range (3,n,2):#(start,stop.step)\n",
    "    print(i,end=\" \")"
   ]
  },
  {
   "cell_type": "code",
   "execution_count": 13,
   "metadata": {},
   "outputs": [
    {
     "name": "stdout",
     "output_type": "stream",
     "text": [
      "2 4 6 8 10 12 14 16 18 \n"
     ]
    }
   ],
   "source": [
    "n=10\n",
    "for i in range(1,n):\n",
    "    print(\"{}\".format(2*i),end=\" \")\n",
    "print(\"\")"
   ]
  },
  {
   "cell_type": "code",
   "execution_count": 16,
   "metadata": {},
   "outputs": [
    {
     "name": "stdout",
     "output_type": "stream",
     "text": [
      "s t r u c t u r e "
     ]
    }
   ],
   "source": [
    "for c in \"structure\":\n",
    "    print(c,end=\" \")"
   ]
  },
  {
   "cell_type": "code",
   "execution_count": 23,
   "metadata": {},
   "outputs": [
    {
     "name": "stdout",
     "output_type": "stream",
     "text": [
      "[0, 1, 2, 3, 4, 5, 6, 7, 8, 9]\n"
     ]
    }
   ],
   "source": [
    "X=[]\n",
    "for i in range (0,10):\n",
    "    X.append(i)\n",
    "print(X)"
   ]
  },
  {
   "cell_type": "code",
   "execution_count": 25,
   "metadata": {},
   "outputs": [
    {
     "name": "stdout",
     "output_type": "stream",
     "text": [
      "[6, 12]\n"
     ]
    }
   ],
   "source": [
    "X=[2*i for i in range(0,11,3) if i == 3 or i == 6]\n",
    "print(X)"
   ]
  },
  {
   "cell_type": "code",
   "execution_count": 8,
   "metadata": {},
   "outputs": [
    {
     "data": {
      "image/png": "[encoded data removed]",
      "text/plain": [
       "<Figure size 432x288 with 1 Axes>"
      ]
     },
     "metadata": {
      "needs_background": "light"
     },
     "output_type": "display_data"
    }
   ],
   "source": [
    "from matplotlib import pyplot\n",
    "import math as m\n",
    "x=[0.02*i*m.pi for i in range(100)　]\n",
    "y=[m.sin(z) for z in x]#xはリスト \n",
    "pyplot.plot(x,y)\n",
    "pyplot.show()"
   ]
  },
  {
   "cell_type": "code",
   "execution_count": 28,
   "metadata": {},
   "outputs": [
    {
     "name": "stdout",
     "output_type": "stream",
     "text": [
      "plz type in integer1:1\n",
      "plz type in integer2:2\n",
      "plz type in integer3:3\n",
      "plz type in integer4:4\n",
      "plz type in integer5:5\n",
      "1 2 3 4 5 average:3.0\n"
     ]
    }
   ],
   "source": [
    "num=[]\n",
    "sum=0\n",
    "for i in range(1,6):\n",
    "    num.append(int(input(\"plz type in a integer{}:\".format(i))))\n",
    "for i in range(0,5):\n",
    "    print(num[i],end=\" \")\n",
    "    sum+=num[i]\n",
    "print(\"average:{}\".format(sum/5))"
   ]
  },
  {
   "cell_type": "code",
   "execution_count": 43,
   "metadata": {},
   "outputs": [
    {
     "name": "stdout",
     "output_type": "stream",
     "text": [
      "plz type in a Natural number:9\n",
      "0\n",
      "3\n",
      "6\n"
     ]
    }
   ],
   "source": [
    "nn=int(input(\"plz type in a Natural number:\"))\n",
    "for i in range(0,nn,3):#0~nnまで3stepで\n",
    "    print(i)"
   ]
  },
  {
   "cell_type": "code",
   "execution_count": 51,
   "metadata": {},
   "outputs": [
    {
     "name": "stdout",
     "output_type": "stream",
     "text": [
      "plz type in a Natural number:5\n",
      "[0, 1, 2, 1, 0]\n",
      "[0, 1, 1, 1, 0]\n"
     ]
    }
   ],
   "source": [
    "mod=[]\n",
    "eva=[]\n",
    "nn=int(input(\"plz type in a Natural number:\"))\n",
    "for i in range (1,nn+1):\n",
    "    mod.append(nn % i)\n",
    "    if mod[i-1] == 0:\n",
    "    gn    eva.append(0)\n",
    "    elif mod[i-1] != 0:\n",
    "        eva.append(1)\n",
    "\n",
    "print(mod)\n",
    "print(eva)"
   ]
  },
  {
   "cell_type": "code",
   "execution_count": null,
   "metadata": {},
   "outputs": [],
   "source": []
  }
 ],
 "metadata": {
  "kernelspec": {
   "display_name": "Python 3",
   "language": "python",
   "name": "python3"
  },
  "language_info": {
   "codemirror_mode": {
    "name": "ipython",
    "version": 3
   },
   "file_extension": ".py",
   "mimetype": "text/x-python",
   "name": "python",
   "nbconvert_exporter": "python",
   "pygments_lexer": "ipython3",
   "version": "3.7.4"
  }
 },
 "nbformat": 4,
 "nbformat_minor": 2
}
