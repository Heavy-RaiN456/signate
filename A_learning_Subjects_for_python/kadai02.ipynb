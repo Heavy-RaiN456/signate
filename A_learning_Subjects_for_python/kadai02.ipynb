{
 "cells": [
  {
   "cell_type": "code",
   "execution_count": 1,
   "metadata": {},
   "outputs": [
    {
     "name": "stdout",
     "output_type": "stream",
     "text": [
      "<class 'float'>\n"
     ]
    }
   ],
   "source": [
    "print(type(7.7))"
   ]
  },
  {
   "cell_type": "code",
   "execution_count": 2,
   "metadata": {},
   "outputs": [
    {
     "name": "stdout",
     "output_type": "stream",
     "text": [
      "78411424\n"
     ]
    }
   ],
   "source": [
    "print(id(7.7))"
   ]
  },
  {
   "cell_type": "code",
   "execution_count": 4,
   "metadata": {},
   "outputs": [
    {
     "data": {
      "text/plain": [
       "'amazon prime'"
      ]
     },
     "execution_count": 4,
     "metadata": {},
     "output_type": "execute_result"
    }
   ],
   "source": [
    "'amazon'+' prime'"
   ]
  },
  {
   "cell_type": "code",
   "execution_count": 5,
   "metadata": {},
   "outputs": [
    {
     "data": {
      "text/plain": [
       "'heyheyhey'"
      ]
     },
     "execution_count": 5,
     "metadata": {},
     "output_type": "execute_result"
    }
   ],
   "source": [
    "'hey'*3"
   ]
  },
  {
   "cell_type": "code",
   "execution_count": 8,
   "metadata": {},
   "outputs": [
    {
     "name": "stdout",
     "output_type": "stream",
     "text": [
      "13×(30+3)=429\n"
     ]
    }
   ],
   "source": [
    "i=13\n",
    "j=30\n",
    "k=i*(j+3)\n",
    "print('{0}×({1}+3)={2}'.format(i,j,k))"
   ]
  },
  {
   "cell_type": "code",
   "execution_count": 10,
   "metadata": {},
   "outputs": [
    {
     "name": "stdout",
     "output_type": "stream",
     "text": [
      "10の２進表現:1010\n",
      "10の８進表現:12\n",
      "10の16進表現:a\n"
     ]
    }
   ],
   "source": [
    "print('10の２進表現:{0:b}'.format(10))\n",
    "print('10の８進表現:{0:o}'.format(10))\n",
    "print('10の16進表現:{0:x}'.format(10))"
   ]
  },
  {
   "cell_type": "code",
   "execution_count": 15,
   "metadata": {},
   "outputs": [
    {
     "name": "stdout",
     "output_type": "stream",
     "text": [
      "a=12,b=3.1415\n"
     ]
    }
   ],
   "source": [
    "a=12\n",
    "b=3.1415\n",
    "print('a={直径},b={円周率}'.format(直径=a,円周率=b))"
   ]
  },
  {
   "cell_type": "code",
   "execution_count": 18,
   "metadata": {},
   "outputs": [
    {
     "name": "stdout",
     "output_type": "stream",
     "text": [
      "5+3×3=14\n"
     ]
    }
   ],
   "source": [
    "a=5\n",
    "b=3\n",
    "c=a+3*b\n",
    "print(\"{first}+3×{second}={third}\".format(first=a,second=b,third=c))"
   ]
  },
  {
   "cell_type": "code",
   "execution_count": 21,
   "metadata": {},
   "outputs": [
    {
     "name": "stdout",
     "output_type": "stream",
     "text": [
      "和655,差501,積44506,商7.5064935064935066\n"
     ]
    }
   ],
   "source": [
    "a=578\n",
    "b=77\n",
    "c=a+b\n",
    "d=a-b\n",
    "e=a*b\n",
    "f=a/b\n",
    "print(\"和{},差{},積{},商{}\".format(c,d,e,f))"
   ]
  },
  {
   "cell_type": "code",
   "execution_count": 24,
   "metadata": {},
   "outputs": [
    {
     "name": "stdout",
     "output_type": "stream",
     "text": [
      "ABC\n"
     ]
    }
   ],
   "source": [
    "a='ABC'\n",
    "print(\"{}\".format(a))"
   ]
  },
  {
   "cell_type": "code",
   "execution_count": 2,
   "metadata": {},
   "outputs": [
    {
     "name": "stdout",
     "output_type": "stream",
     "text": [
      "!!!!!!!!!!\n"
     ]
    }
   ],
   "source": [
    "a='!'\n",
    "print(\"{}\".format(a*10))"
   ]
  },
  {
   "cell_type": "code",
   "execution_count": 15,
   "metadata": {},
   "outputs": [
    {
     "name": "stdout",
     "output_type": "stream",
     "text": [
      "255707296\n",
      "255707296\n",
      "255707312\n",
      "255707312\n"
     ]
    }
   ],
   "source": [
    "a=1\n",
    "b=a\n",
    "print(id(a))\n",
    "print(id(b))\n",
    "a=a+1\n",
    "b=a\n",
    "print(id(a))\n",
    "print(id(b))"
   ]
  },
  {
   "cell_type": "code",
   "execution_count": 19,
   "metadata": {},
   "outputs": [
    {
     "name": "stdout",
     "output_type": "stream",
     "text": [
      "470\n",
      "94\n",
      "47.0\n",
      "94\n",
      "3\n"
     ]
    }
   ],
   "source": [
    "a=62\n",
    "b=32\n",
    "c=a+b\n",
    "print(\"{}\".format(5*c))\n",
    "print(\"{}\".format(c))\n",
    "print(\"{}\".format(c/2))\n",
    "print(\"{}\".format(c))\n",
    "print(\"{}\".format(c%13))"
   ]
  },
  {
   "cell_type": "code",
   "execution_count": 26,
   "metadata": {},
   "outputs": [
    {
     "name": "stdout",
     "output_type": "stream",
     "text": [
      "現在の時刻は16時33分17秒です\n"
     ]
    }
   ],
   "source": [
    "from datetime import datetime\n",
    "a=datetime.now().hour\n",
    "b=datetime.now().minute\n",
    "c=datetime.now().second\n",
    "print(\"現在の時刻は{}時{}分{}秒です\".format(a,b,c))"
   ]
  },
  {
   "cell_type": "code",
   "execution_count": null,
   "metadata": {},
   "outputs": [],
   "source": []
  },
  {
   "cell_type": "code",
   "execution_count": null,
   "metadata": {},
   "outputs": [],
   "source": []
  }
 ],
 "metadata": {
  "kernelspec": {
   "display_name": "Python 3",
   "language": "python",
   "name": "python3"
  },
  "language_info": {
   "codemirror_mode": {
    "name": "ipython",
    "version": 3
   },
   "file_extension": ".py",
   "mimetype": "text/x-python",
   "name": "python",
   "nbconvert_exporter": "python",
   "pygments_lexer": "ipython3",
   "version": "3.7.3"
  }
 },
 "nbformat": 4,
 "nbformat_minor": 2
}
