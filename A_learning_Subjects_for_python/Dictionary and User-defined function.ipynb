{
 "cells": [
  {
   "cell_type": "code",
   "execution_count": 55,
   "metadata": {},
   "outputs": [
    {
     "name": "stdout",
     "output_type": "stream",
     "text": [
      "{'おはよう': 'Good morning', '猫': 'cat'}\n"
     ]
    }
   ],
   "source": [
    "ja2eng={\"おはよう\":\"Good morning\",\"猫\":\"cat\"}#{key:value}\n",
    "print(ja2eng)"
   ]
  },
  {
   "cell_type": "code",
   "execution_count": 72,
   "metadata": {
    "scrolled": false
   },
   "outputs": [
    {
     "name": "stdout",
     "output_type": "stream",
     "text": [
      "{2: [2, 4, 6, 8, 10, 12, 14, 16, 18, 20, 22, 24, 26, 28, 30, 32, 34, 36, 38, 40, 42, 44, 46, 48, 50, 52, 54, 56, 58, 60, 62, 64, 66, 68, 70, 72, 74, 76, 78, 80, 82, 84, 86, 88, 90, 92, 94, 96, 98, 100], 4: [4, 8, 12, 16, 20, 24, 28, 32, 36, 40, 44, 48, 52, 56, 60, 64, 68, 72, 76, 80, 84, 88, 92, 96, 100], 6: [6, 12, 18, 24, 30, 36, 42, 48, 54, 60, 66, 72, 78, 84, 90, 96], 8: [8, 16, 24, 32, 40, 48, 56, 64, 72, 80, 88, 96], 10: [10, 20, 30, 40, 50, 60, 70, 80, 90, 100]}\n"
     ]
    }
   ],
   "source": [
    "val2=[]\n",
    "val4=[]\n",
    "val6=[]\n",
    "val8=[]\n",
    "val10=[]\n",
    "\n",
    "dic_multi={2:val2,4:val4,6:val6,8:val8,10:val10}\n",
    "for i in range(1,101):\n",
    "    if 2*i <= 100:\n",
    "        val2.append(2*i)\n",
    "    if 4*i <= 100:\n",
    "        val4.append(4*i)\n",
    "    if 6*i <= 100:\n",
    "        val6.append(6*i)\n",
    "    if 8*i <= 100:\n",
    "        val8.append(8*i)\n",
    "    if 10*i <= 100:\n",
    "        val10.append(10*i)\n",
    "        \n",
    "print(dic_multi)\n"
   ]
  },
  {
   "cell_type": "code",
   "execution_count": 38,
   "metadata": {},
   "outputs": [
    {
     "name": "stdout",
     "output_type": "stream",
     "text": [
      "Plz enter a string:fyai\n",
      "fyai\n",
      "fyai\n",
      "fyai\n",
      "fyai\n"
     ]
    }
   ],
   "source": [
    "def rep_str():\n",
    "    text=input(\"Plz enter a string:\")\n",
    "    text_len=len(text)\n",
    "    for i in range (text_len):\n",
    "        print(text)\n",
    "rep_str()\n",
    "\n",
    "    "
   ]
  },
  {
   "cell_type": "code",
   "execution_count": 2,
   "metadata": {},
   "outputs": [
    {
     "name": "stdout",
     "output_type": "stream",
     "text": [
      "Plz enter a string:cat\n",
      "cat\n",
      "cat\n",
      "cat\n",
      "\n"
     ]
    }
   ],
   "source": [
    "def rep_str():\n",
    "    rep=''\n",
    "    text=input(\"Plz enter a string:\")\n",
    "    text_len=len(text)\n",
    "    for i in range (text_len):\n",
    "        rep += text + '\\n'\n",
    "    return rep\n",
    "\n",
    "print(rep_str())"
   ]
  },
  {
   "cell_type": "code",
   "execution_count": 6,
   "metadata": {},
   "outputs": [
    {
     "name": "stdout",
     "output_type": "stream",
     "text": [
      "fff\n"
     ]
    }
   ],
   "source": [
    "print(\"f\"*3)"
   ]
  },
  {
   "cell_type": "code",
   "execution_count": 32,
   "metadata": {},
   "outputs": [
    {
     "name": "stdout",
     "output_type": "stream",
     "text": [
      "fusjgrp\n",
      "rdoog\n"
     ]
    }
   ],
   "source": [
    "print(\"fusjgrp\\nrdoog\")"
   ]
  },
  {
   "cell_type": "code",
   "execution_count": null,
   "metadata": {},
   "outputs": [],
   "source": []
  }
 ],
 "metadata": {
  "kernelspec": {
   "display_name": "Python 3",
   "language": "python",
   "name": "python3"
  },
  "language_info": {
   "codemirror_mode": {
    "name": "ipython",
    "version": 3
   },
   "file_extension": ".py",
   "mimetype": "text/x-python",
   "name": "python",
   "nbconvert_exporter": "python",
   "pygments_lexer": "ipython3",
   "version": "3.7.4"
  }
 },
 "nbformat": 4,
 "nbformat_minor": 2
}
