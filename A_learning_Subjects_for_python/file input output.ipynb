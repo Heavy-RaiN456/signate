{
 "cells": [
  {
   "cell_type": "code",
   "execution_count": 45,
   "metadata": {},
   "outputs": [
    {
     "name": "stdout",
     "output_type": "stream",
     "text": [
      "Taro 1200/01/01 Japan\n",
      "Jiro 1300/12/31 USA\n",
      "Hanako 1800/05/31 UK\n",
      "Keiko 2100/06/20 France\n"
     ]
    }
   ],
   "source": [
    "add_filename = \"test.txt\"\n",
    "with open(add_filename,\"r\") as add_f:\n",
    "    add_data=add_f.read()\n",
    "\n",
    "filename = \"test1.txt\"\n",
    "with open(filename,\"a\") as f:\n",
    "    f.write(\"\\n\"+add_data)\n",
    "\n",
    "with open(filename) as f:\n",
    "    print (f.read())\n"
   ]
  },
  {
   "cell_type": "code",
   "execution_count": null,
   "metadata": {},
   "outputs": [],
   "source": [
    "\n"
   ]
  },
  {
   "cell_type": "code",
   "execution_count": null,
   "metadata": {},
   "outputs": [],
   "source": []
  },
  {
   "cell_type": "code",
   "execution_count": null,
   "metadata": {},
   "outputs": [],
   "source": []
  }
 ],
 "metadata": {
  "kernelspec": {
   "display_name": "Python 3",
   "language": "python",
   "name": "python3"
  },
  "language_info": {
   "codemirror_mode": {
    "name": "ipython",
    "version": 3
   },
   "file_extension": ".py",
   "mimetype": "text/x-python",
   "name": "python",
   "nbconvert_exporter": "python",
   "pygments_lexer": "ipython3",
   "version": "3.7.6"
  }
 },
 "nbformat": 4,
 "nbformat_minor": 2
}
