{
 "cells": [
  {
   "cell_type": "code",
   "execution_count": 2,
   "metadata": {},
   "outputs": [
    {
     "name": "stdout",
     "output_type": "stream",
     "text": [
      "文字列を入力:1\n",
      "入力:1\n"
     ]
    }
   ],
   "source": [
    "a=input(\"文字列を入力:\")\n",
    "print(\"入力:{}\".format(a))"
   ]
  },
  {
   "cell_type": "code",
   "execution_count": 3,
   "metadata": {},
   "outputs": [
    {
     "name": "stdout",
     "output_type": "stream",
     "text": [
      "文字列を入力:1\n",
      "1\n",
      "文字列の長さ:1\n"
     ]
    }
   ],
   "source": [
    "string=input(\"文字列を入力:\")\n",
    "print(\"{}\".format(string))\n",
    "stlen=len(string)\n",
    "print(\"文字列の長さ:{}\".format(stlen))"
   ]
  },
  {
   "cell_type": "code",
   "execution_count": 4,
   "metadata": {},
   "outputs": [
    {
     "name": "stdout",
     "output_type": "stream",
     "text": [
      "文字列1:1\n",
      "文字列2:\n",
      "1\n"
     ]
    }
   ],
   "source": [
    "a=input(\"文字列1:\")\n",
    "b=input(\"文字列2:\")\n",
    "print(a+b)\n",
    "\n"
   ]
  },
  {
   "cell_type": "code",
   "execution_count": 5,
   "metadata": {},
   "outputs": [
    {
     "name": "stdout",
     "output_type": "stream",
     "text": [
      "True\n"
     ]
    }
   ],
   "source": [
    "a=\"Python\"\n",
    "b=\"anaconda\"\n",
    "print(a<b)"
   ]
  },
  {
   "cell_type": "code",
   "execution_count": 6,
   "metadata": {},
   "outputs": [
    {
     "name": "stdout",
     "output_type": "stream",
     "text": [
      "は に\n",
      "こ\n",
      "んにち\n",
      "こんばんは\n"
     ]
    }
   ],
   "source": [
    "word=\"こんにちは\"\n",
    "print(word[-1],word[2])\n",
    "print(word[0])\n",
    "print(word[1:4])\n",
    "word=word[:2]+\"ばんは\"\n",
    "print(word)"
   ]
  },
  {
   "cell_type": "code",
   "execution_count": 7,
   "metadata": {},
   "outputs": [
    {
     "data": {
      "text/plain": [
       "3"
      ]
     },
     "execution_count": 7,
     "metadata": {},
     "output_type": "execute_result"
    }
   ],
   "source": [
    "\"banana\". count(\"a\")"
   ]
  },
  {
   "cell_type": "code",
   "execution_count": 8,
   "metadata": {},
   "outputs": [
    {
     "data": {
      "text/plain": [
       "0"
      ]
     },
     "execution_count": 8,
     "metadata": {},
     "output_type": "execute_result"
    }
   ],
   "source": [
    "\"ban\".find(\"ba\")"
   ]
  },
  {
   "cell_type": "code",
   "execution_count": 9,
   "metadata": {},
   "outputs": [
    {
     "name": "stdout",
     "output_type": "stream",
     "text": [
      "文字列を入力:1\n",
      "111\n"
     ]
    }
   ],
   "source": [
    "word=input(\"文字列を入力:\")\n",
    "print(\"{}\".format(word*3))"
   ]
  },
  {
   "cell_type": "code",
   "execution_count": 10,
   "metadata": {},
   "outputs": [
    {
     "name": "stdout",
     "output_type": "stream",
     "text": [
      "名前を入力:1\n",
      "名前:1\n",
      "長さ:1\n"
     ]
    }
   ],
   "source": [
    "word=input(\"名前を入力:\")\n",
    "stlen=len(word)\n",
    "print(\"名前:{}\\n長さ:{}\".format(word,stlen))"
   ]
  },
  {
   "cell_type": "code",
   "execution_count": 11,
   "metadata": {},
   "outputs": [
    {
     "data": {
      "text/plain": [
       "21"
      ]
     },
     "execution_count": 11,
     "metadata": {},
     "output_type": "execute_result"
    }
   ],
   "source": [
    "text=\"\"\"観自在菩薩・行深般若波羅蜜多時、照見五蘊皆空、度一切苦厄。\n",
    "舎利子。色不異空、空不異色、色即是空、空即是色。受・想・行・識・亦復如是。\n",
    "舎利子。是諸法空相、不生不滅、不垢不浄、不増不減。\n",
    "是故空中、無色、無受・想・行・識、無眼・耳・鼻・舌・身・意、無色・声・香・味・触・法。無眼界、乃至、無意識界。\n",
    "無無明・亦無無明尽、乃至、無老死、亦無老死尽。\n",
    "無苦・集・滅・道。無智、亦無得。以無所得故、菩提薩埵、依般若波羅蜜多故、心無罣礙、無罣礙故、無有恐怖、遠離・一切・顛倒夢想、究竟涅槃。三世諸仏、依般若波羅蜜多故、得阿耨多羅三藐三菩提。故知、般若波羅蜜多、是大神呪、是大明呪、是無上呪、是無等等呪、能除一切苦、真実不虚。故説、般若波羅蜜多呪。 即説呪曰、羯諦羯諦、波羅羯諦、波羅僧羯諦、菩提薩婆訶。般若心経\"\"\"\n",
    "text.count(\"無\")\n"
   ]
  },
  {
   "cell_type": "code",
   "execution_count": 12,
   "metadata": {},
   "outputs": [
    {
     "data": {
      "text/plain": [
       "12354"
      ]
     },
     "execution_count": 12,
     "metadata": {},
     "output_type": "execute_result"
    }
   ],
   "source": [
    "ord(\"あ\")"
   ]
  },
  {
   "cell_type": "markdown",
   "metadata": {},
   "source": [
    "input1=input(\"Unicodeの対応する１６進数:\")\n",
    "int(input)"
   ]
  },
  {
   "cell_type": "code",
   "execution_count": 13,
   "metadata": {},
   "outputs": [
    {
     "name": "stdout",
     "output_type": "stream",
     "text": [
      "Unicodeの対応する１６進数:1\n"
     ]
    }
   ],
   "source": [
    "input1=input(\"Unicodeの対応する１６進数:\")\n",
    "ten=int(input1)"
   ]
  },
  {
   "cell_type": "code",
   "execution_count": 14,
   "metadata": {},
   "outputs": [
    {
     "name": "stdout",
     "output_type": "stream",
     "text": [
      "m:\n"
     ]
    },
    {
     "ename": "ValueError",
     "evalue": "invalid literal for int() with base 10: ''",
     "output_type": "error",
     "traceback": [
      "\u001b[1;31m---------------------------------------------------------------------------\u001b[0m",
      "\u001b[1;31mValueError\u001b[0m                                Traceback (most recent call last)",
      "\u001b[1;32m<ipython-input-14-0b26924de256>\u001b[0m in \u001b[0;36m<module>\u001b[1;34m\u001b[0m\n\u001b[0;32m      1\u001b[0m \u001b[0minput1\u001b[0m\u001b[1;33m=\u001b[0m\u001b[0minput\u001b[0m\u001b[1;33m(\u001b[0m\u001b[1;34m\"m:\"\u001b[0m\u001b[1;33m)\u001b[0m\u001b[1;33m\u001b[0m\u001b[1;33m\u001b[0m\u001b[0m\n\u001b[1;32m----> 2\u001b[1;33m \u001b[0mm\u001b[0m\u001b[1;33m=\u001b[0m\u001b[0mint\u001b[0m\u001b[1;33m(\u001b[0m\u001b[0minput1\u001b[0m\u001b[1;33m)\u001b[0m\u001b[1;33m\u001b[0m\u001b[1;33m\u001b[0m\u001b[0m\n\u001b[0m\u001b[0;32m      3\u001b[0m \u001b[0minput2\u001b[0m\u001b[1;33m=\u001b[0m\u001b[0minput\u001b[0m\u001b[1;33m(\u001b[0m\u001b[1;34m\"n:\"\u001b[0m\u001b[1;33m)\u001b[0m\u001b[1;33m\u001b[0m\u001b[1;33m\u001b[0m\u001b[0m\n\u001b[0;32m      4\u001b[0m \u001b[0mn\u001b[0m\u001b[1;33m=\u001b[0m\u001b[0mint\u001b[0m\u001b[1;33m(\u001b[0m\u001b[0minput2\u001b[0m\u001b[1;33m)\u001b[0m\u001b[1;33m\u001b[0m\u001b[1;33m\u001b[0m\u001b[0m\n\u001b[0;32m      5\u001b[0m \u001b[0mprint\u001b[0m\u001b[1;33m(\u001b[0m\u001b[1;34m\"商:{}\\n余り{}\"\u001b[0m\u001b[1;33m.\u001b[0m\u001b[0mformat\u001b[0m\u001b[1;33m(\u001b[0m\u001b[0mm\u001b[0m\u001b[1;33m//\u001b[0m\u001b[0mn\u001b[0m\u001b[1;33m,\u001b[0m\u001b[0mm\u001b[0m\u001b[1;33m%\u001b[0m\u001b[0mn\u001b[0m\u001b[1;33m)\u001b[0m\u001b[1;33m)\u001b[0m\u001b[1;33m\u001b[0m\u001b[1;33m\u001b[0m\u001b[0m\n",
      "\u001b[1;31mValueError\u001b[0m: invalid literal for int() with base 10: ''"
     ]
    }
   ],
   "source": [
    "input1=input(\"m:\")\n",
    "m=int(input1)\n",
    "input2=input(\"n:\")\n",
    "n=int(input2)\n",
    "print(\"商:{}\\n余り{}\".format(m//n,m%n))\n",
    "print(\"小数点以下四捨五入:{}\".format(round(m//n)))\n",
    "#5の時は正確に四捨五入されない。"
   ]
  },
  {
   "cell_type": "code",
   "execution_count": null,
   "metadata": {},
   "outputs": [],
   "source": [
    "input1=input(\"time(s):\")\n",
    "time=int(input1)\n",
    "hour=time//3600\n",
    "minute=(time-3600*hour)//60\n",
    "second=time-3600*hour-60*minute\n",
    "print(\"{}時間{}分{}秒\".format(hour,minute,second))"
   ]
  },
  {
   "cell_type": "code",
   "execution_count": null,
   "metadata": {},
   "outputs": [],
   "source": [
    "input1=input(\"税抜き価格(\\):\")\n",
    "input2=input(\"税率(%):\")\n",
    "value=int(input1)\n",
    "rate=int(input2)\n",
    "print(\"税込み価格:{}円\".format(value*(1+rate/100)))\n"
   ]
  },
  {
   "cell_type": "code",
   "execution_count": null,
   "metadata": {},
   "outputs": [],
   "source": [
    "#kadai4以降\n",
    "list=[1,2,3,4,5,6,7]\n",
    "list[0]=5\n",
    "print(list)\n",
    "list.append(7)#リストの末尾に追加\n",
    "print(list)\n",
    "list[2:5]=[]#投資番号2から5個目までを消す。\n",
    "print(list)\n"
   ]
  },
  {
   "cell_type": "code",
   "execution_count": null,
   "metadata": {},
   "outputs": [],
   "source": [
    "sentencespace=\"you are stupid.\"\n",
    "print(sentencespace.split())\n",
    "\n",
    "sentenceslash=\"you/are/stupid.\"\n",
    "print(sentenceslash.split(sep=\"/\"))\n",
    "list=sentenceslash.split(sep=\"/\")\n",
    "list[0:2]=[]\n",
    "print(list)"
   ]
  },
  {
   "cell_type": "code",
   "execution_count": null,
   "metadata": {},
   "outputs": [],
   "source": [
    "a=[1,2,3,4,5]\n",
    "b=a\n",
    "b[2:4]=[]\n",
    "print(a)\n",
    "print(b)\n",
    "#変えたのはbだけのはずなのに、aまで変わってしまうので注意。"
   ]
  },
  {
   "cell_type": "code",
   "execution_count": 15,
   "metadata": {},
   "outputs": [
    {
     "name": "stdout",
     "output_type": "stream",
     "text": [
      "[1, 2, 3] [5, 2, 3] [1, 2, 3, 1]\n",
      "6\n",
      "3\n",
      "0\n",
      "True False False\n"
     ]
    }
   ],
   "source": [
    "#上記の解決策として\n",
    "a=[1,2,3]\n",
    "b=a[:]\n",
    "c=a.copy()\n",
    "b[0]=5\n",
    "c.append(1)\n",
    "print(a,b,c)\n",
    "print(sum(a))\n",
    "print(len(b))\n",
    "print(c.count(a))\n",
    "print(1 in a,4 in a,1 not in a)"
   ]
  },
  {
   "cell_type": "code",
   "execution_count": null,
   "metadata": {},
   "outputs": [],
   "source": [
    "mylist=[1,2,3,4,5,6,7,8,9,10,11]\n",
    "mylist[0:1]=[]\n",
    "mylist[9:10]=[]\n",
    "print(mylist)"
   ]
  },
  {
   "cell_type": "code",
   "execution_count": null,
   "metadata": {},
   "outputs": [],
   "source": [
    "sentence=input(\"英文を入力:\\n\")\n",
    "a=sentence.split()\n",
    "print(a)\n",
    "print(len(a))"
   ]
  },
  {
   "cell_type": "code",
   "execution_count": null,
   "metadata": {},
   "outputs": [],
   "source": [
    "nums=[5,5,4,3,1,7,4]\n",
    "print(max(nums),min(nums),int(sum(nums)/len(nums)))"
   ]
  },
  {
   "cell_type": "code",
   "execution_count": null,
   "metadata": {},
   "outputs": [],
   "source": [
    "numbers=input(\"数を,で区切って入力:\\n\")\n",
    "list=numbers.split(sep=\",\")#,で区切る。\n",
    "nums=[float(w) for w in list]#str型をfloat型に\n",
    "ave=sum(nums)/len(nums)\n",
    "sumarize=sum(nums)\n",
    "MAX=max(nums)\n",
    "Min=min(nums)\n",
    "print(\"平均:{},合計:{},最大値:{},最小値:{}\"\n",
    "      .format(ave,sumarize,MAX,Min))\n",
    "                                         "
   ]
  },
  {
   "cell_type": "code",
   "execution_count": null,
   "metadata": {},
   "outputs": [],
   "source": [
    "month=input(\"月を数字で入力:\\n\")\n",
    "month=int(month)\n",
    "\n",
    "list=[\"\",\"January\",\"February\",\n",
    "      \"March\",\"April\",\"May\",\"Jun\",\"July\",\"August\"\n",
    "      ,\"September\",\"Octorber\",\"November\",\"Decenber\"]\n",
    "print(\"{}月の英語は{}です\".format(month,list[month]))\n"
   ]
  },
  {
   "cell_type": "code",
   "execution_count": 17,
   "metadata": {
    "scrolled": true
   },
   "outputs": [
    {
     "name": "stdout",
     "output_type": "stream",
     "text": [
      "月を入力:5\n",
      "日にちを入力:20\n",
      "1月1日からの経過日数140\n",
      "\n",
      "次のお正月までは225\n",
      "\n"
     ]
    }
   ],
   "source": [
    "month=input(\"月を入力:\")\n",
    "date=input(\"日にちを入力:\")\n",
    "month=int(month)\n",
    "date=int(date)\n",
    "spent=0\n",
    "have=[0,31,28,31,30,31,30,31,31,30,31,30,31]\n",
    "for i in range(0,month):\n",
    "    days=have[i]\n",
    "    spent+=have[i]\n",
    "print(\"1月1日からの経過日数{}\\n\".format(spent+date))\n",
    "print(\"次のお正月までは{}\\n\".format(365-(spent+date)))"
   ]
  },
  {
   "cell_type": "markdown",
   "metadata": {},
   "source": [
    " "
   ]
  }
 ],
 "metadata": {
  "kernelspec": {
   "display_name": "Python 3",
   "language": "python",
   "name": "python3"
  },
  "language_info": {
   "codemirror_mode": {
    "name": "ipython",
    "version": 3
   },
   "file_extension": ".py",
   "mimetype": "text/x-python",
   "name": "python",
   "nbconvert_exporter": "python",
   "pygments_lexer": "ipython3",
   "version": "3.7.3"
  }
 },
 "nbformat": 4,
 "nbformat_minor": 2
}
