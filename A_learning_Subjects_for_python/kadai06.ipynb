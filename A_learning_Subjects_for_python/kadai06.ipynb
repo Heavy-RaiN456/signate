{
 "cells": [
  {
   "cell_type": "code",
   "execution_count": 1,
   "metadata": {},
   "outputs": [
    {
     "data": {
      "text/plain": [
       "True"
      ]
     },
     "execution_count": 1,
     "metadata": {},
     "output_type": "execute_result"
    }
   ],
   "source": [
    "10>2 and 10>3"
   ]
  },
  {
   "cell_type": "code",
   "execution_count": 2,
   "metadata": {},
   "outputs": [
    {
     "data": {
      "text/plain": [
       "True"
      ]
     },
     "execution_count": 2,
     "metadata": {},
     "output_type": "execute_result"
    }
   ],
   "source": [
    "10>2 or 6>77"
   ]
  },
  {
   "cell_type": "code",
   "execution_count": 3,
   "metadata": {},
   "outputs": [
    {
     "data": {
      "text/plain": [
       "False"
      ]
     },
     "execution_count": 3,
     "metadata": {},
     "output_type": "execute_result"
    }
   ],
   "source": [
    "not 10>2"
   ]
  },
  {
   "cell_type": "code",
   "execution_count": 11,
   "metadata": {},
   "outputs": [
    {
     "name": "stdout",
     "output_type": "stream",
     "text": [
      "数字を入力-4\n",
      "-4は負なので無理\n"
     ]
    }
   ],
   "source": [
    "import math\n",
    "x=input(\"数字を入力\")\n",
    "x=int(x)\n",
    "if x >= 0:\n",
    "    y=math.sqrt(x)\n",
    "    print(\"SQRT(x)={}\".format(y))#数値のまま出力\n",
    "else:#インデント(隙間)をなくせばブロックの終了を表現\n",
    "    print(str(x)+\"は負なので無理\")#文字列の足し算"
   ]
  },
  {
   "cell_type": "code",
   "execution_count": 12,
   "metadata": {},
   "outputs": [
    {
     "name": "stdout",
     "output_type": "stream",
     "text": [
      "your age:21\n",
      "You can drink alcoholic bevarage.\n"
     ]
    }
   ],
   "source": [
    "age=input(\"your age:\")\n",
    "age=int(age)\n",
    "\n",
    "if age >= 20:\n",
    "    print(\"You can drink alcoholic bevarage.\")\n",
    "else:\n",
    "    print(\"You must not drink...\")\n",
    "    \n",
    "#文字列同士の比較は辞書順で前後の判定"
   ]
  },
  {
   "cell_type": "code",
   "execution_count": null,
   "metadata": {},
   "outputs": [],
   "source": [
    "x=input(\"number:\")\n",
    "x=int(x)\n",
    "if x in [1,2,3]:\n",
    "    print(\"x is one of the list\")\n",
    "else:\n",
    "    print(\"x do not exist in the list\")"
   ]
  },
  {
   "cell_type": "code",
   "execution_count": 3,
   "metadata": {},
   "outputs": [
    {
     "name": "stdout",
     "output_type": "stream",
     "text": [
      "number1:1\n",
      "number2:3\n",
      "diffrent\n"
     ]
    }
   ],
   "source": [
    "num1=input(\"number1:\")\n",
    "num2=input(\"number2:\")\n",
    "num1=int(num1)\n",
    "num2=int(num2)\n",
    "if num1 == num2:\n",
    "    print(\"same\")\n",
    "else:\n",
    "    print(\"diffrent\")"
   ]
  },
  {
   "cell_type": "code",
   "execution_count": 6,
   "metadata": {},
   "outputs": [
    {
     "name": "stdout",
     "output_type": "stream",
     "text": [
      "number:69\n",
      "in the range(60<=x<=100)\n"
     ]
    }
   ],
   "source": [
    "num=input(\"number:\")\n",
    "num=int(num)\n",
    "if 60<=num<=100:\n",
    "    print(\"in the range(60<=x<=100)\")\n",
    "else:\n",
    "    print(\"out of range\")"
   ]
  },
  {
   "cell_type": "code",
   "execution_count": 8,
   "metadata": {},
   "outputs": [
    {
     "name": "stdout",
     "output_type": "stream",
     "text": [
      "sentence:fin\n",
      "do not include a\n"
     ]
    }
   ],
   "source": [
    "sen=input(\"sentence:\")\n",
    "if \"a\" in sen:\n",
    "    print(\"include a\")\n",
    "else:\n",
    "    print(\"do not include a\")"
   ]
  },
  {
   "cell_type": "code",
   "execution_count": 11,
   "metadata": {},
   "outputs": [
    {
     "name": "stdout",
     "output_type": "stream",
     "text": [
      "number:2\n",
      "SQRT:1.4142135623730951\n"
     ]
    }
   ],
   "source": [
    "import math\n",
    "num=input(\"number:\")\n",
    "num=int(num)\n",
    "\n",
    "if num >= 0:\n",
    "    print(\"SQRT:{}\".format(math.sqrt(num)))\n",
    "else:\n",
    "    print(str(num)+\" is negative\")"
   ]
  },
  {
   "cell_type": "code",
   "execution_count": 18,
   "metadata": {},
   "outputs": [
    {
     "name": "stdout",
     "output_type": "stream",
     "text": [
      "temperture[℉](0<=temp<=100):212\n",
      "temperture[℃]:100.0\n"
     ]
    }
   ],
   "source": [
    "temp=input(\"temperture[℉](0<=temp<=100):\")\n",
    "temp=int(temp)\n",
    "temp=(temp-32)/1.800\n",
    "\n",
    "if temp < 0:\n",
    "    print(\"氷点下{}℃\".format(-temp))\n",
    "else:\n",
    "    print(\"temperture[℃]:{}\".format(temp))\n"
   ]
  },
  {
   "cell_type": "code",
   "execution_count": null,
   "metadata": {},
   "outputs": [],
   "source": []
  },
  {
   "cell_type": "code",
   "execution_count": null,
   "metadata": {},
   "outputs": [],
   "source": []
  }
 ],
 "metadata": {
  "kernelspec": {
   "display_name": "Python 3",
   "language": "python",
   "name": "python3"
  },
  "language_info": {
   "codemirror_mode": {
    "name": "ipython",
    "version": 3
   },
   "file_extension": ".py",
   "mimetype": "text/x-python",
   "name": "python",
   "nbconvert_exporter": "python",
   "pygments_lexer": "ipython3",
   "version": "3.7.3"
  }
 },
 "nbformat": 4,
 "nbformat_minor": 2
}
